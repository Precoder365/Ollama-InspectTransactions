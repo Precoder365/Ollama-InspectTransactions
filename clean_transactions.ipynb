{
 "cells": [
  {
   "cell_type": "code",
   "execution_count": 1,
   "id": "3fe33fe4-6624-46f6-80a2-d5dac262e8bb",
   "metadata": {},
   "outputs": [],
   "source": [
    "from datetime import datetime\n",
    "\n",
    "def convert_date(date_str):\n",
    "    date_obj = datetime.strptime(date_str, '%d/%m/%y')\n",
    "    return date_obj.strftime('%Y-%m-%d')\n",
    "\n",
    "def convert_transaction_data(input_file, output_file):\n",
    "    with open(input_file, 'r') as file:\n",
    "        with open(output_file, 'w') as outfile:\n",
    "            outfile.write(\"Date,Name / Description,Expense/Income,Amount (EUR)\\n\")\n",
    "            for line in file:\n",
    "                line = line.strip()  \n",
    "                parts = line.split(',')\n",
    "                if len(parts) < 6:\n",
    "                    continue  \n",
    "                date_str = parts[0].strip()\n",
    "                try:\n",
    "                    convert_date(date_str) \n",
    "                except ValueError:\n",
    "                    continue  \n",
    "                date = convert_date(date_str)\n",
    "                narration = parts[1].strip()\n",
    "                debit_amount = float(parts[3].strip())\n",
    "                credit_amount = float(parts[4].strip())\n",
    "                amount = debit_amount if debit_amount > 0 else credit_amount\n",
    "                expense_income = \"Expense\" if debit_amount > 0 else \"Income\"\n",
    "                outfile.write(f\"{date},{narration},{expense_income},{amount}\\n\")\n",
    "\n",
    "convert_transaction_data(\"transactions.txt\", \"cleaned_transactions.csv\")"
   ]
  },
  {
   "cell_type": "code",
   "execution_count": null,
   "id": "ea087a43-1cdc-40a8-a71a-9daea466b20c",
   "metadata": {},
   "outputs": [],
   "source": []
  }
 ],
 "metadata": {
  "kernelspec": {
   "display_name": "Python 3 (ipykernel)",
   "language": "python",
   "name": "python3"
  },
  "language_info": {
   "codemirror_mode": {
    "name": "ipython",
    "version": 3
   },
   "file_extension": ".py",
   "mimetype": "text/x-python",
   "name": "python",
   "nbconvert_exporter": "python",
   "pygments_lexer": "ipython3",
   "version": "3.11.1"
  }
 },
 "nbformat": 4,
 "nbformat_minor": 5
}
